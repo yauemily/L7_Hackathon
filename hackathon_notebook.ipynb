{
 "cells": [
  {
   "cell_type": "code",
   "execution_count": null,
   "metadata": {},
   "outputs": [],
   "source": [
    "import pandas as pd\n",
    "import seaborn as sns\n",
    "import matplotlib.pyplot as plt\n",
    "\n",
    "data_root = \"https://github.com/yauemily/L7_Hackathon/raw/main/Data/\"\n",
    "data = pd.read_csv(data_root + \"corona_tested_individuals_ver_006.english.csv\")\n",
    "data.head(5)"
   ]
  }
 ],
 "metadata": {
  "language_info": {
   "name": "python"
  }
 },
 "nbformat": 4,
 "nbformat_minor": 2
}
