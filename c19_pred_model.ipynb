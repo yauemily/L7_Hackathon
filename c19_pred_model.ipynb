{
 "cells": [
  {
   "cell_type": "markdown",
   "metadata": {
    "slideshow": {
     "slide_type": "slide"
    }
   },
   "source": [
    "# Covid-19 Prediction Model Project"
   ]
  },
  {
   "cell_type": "markdown",
   "metadata": {},
   "source": [
    "# Introduction\n",
    "\n",
    "**Purpose of Project**\n",
    "\n",
    "In this hackathon, we want you to build machine learning models to predict COVID-19 infections from symptoms. It has several applications – for example, triaging patients to be attended by a doctor or nurse, recommending self-isolation through contact tracing apps, etc.\n",
    "\n",
    "**Problem Statement**\n",
    "\n",
    "This is a classifier problem as we want to either:\n",
    "1. Predict the test result from our features\n",
    "2. Predict the likihood of a positive result from our features\n",
    "\n",
    "We might also want to consider who is at greater risk. For example,\n",
    "* Risk of complications is more likely in over 60s\n",
    "* A shortness of breath might be a more worrying symptom than sore throat"
   ]
  },
  {
   "cell_type": "markdown",
   "metadata": {
    "slideshow": {
     "slide_type": "slide"
    }
   },
   "source": [
    "## Libraries\n",
    "As always, we'll start by importing the necessary libraries."
   ]
  },
  {
   "cell_type": "code",
   "execution_count": 6,
   "metadata": {
    "slideshow": {
     "slide_type": "slide"
    }
   },
   "outputs": [],
   "source": [
    "# It's good practice to add comments to explain your code \n",
    "import numpy as np\n",
    "import pandas as pd\n",
    "\n",
    "import seaborn as sns\n",
    "from matplotlib import pyplot as plt\n",
    "\n",
    "from sklearn.model_selection import train_test_split\n",
    "from sklearn.linear_model import LogisticRegression\n",
    "from sklearn.metrics import accuracy_score, confusion_matrix, classification_report"
   ]
  },
  {
   "cell_type": "code",
   "execution_count": 7,
   "metadata": {
    "slideshow": {
     "slide_type": "slide"
    }
   },
   "outputs": [
    {
     "data": {
      "text/html": [
       "<div>\n",
       "<style scoped>\n",
       "    .dataframe tbody tr th:only-of-type {\n",
       "        vertical-align: middle;\n",
       "    }\n",
       "\n",
       "    .dataframe tbody tr th {\n",
       "        vertical-align: top;\n",
       "    }\n",
       "\n",
       "    .dataframe thead th {\n",
       "        text-align: right;\n",
       "    }\n",
       "</style>\n",
       "<table border=\"1\" class=\"dataframe\">\n",
       "  <thead>\n",
       "    <tr style=\"text-align: right;\">\n",
       "      <th></th>\n",
       "      <th>test_date</th>\n",
       "      <th>cough</th>\n",
       "      <th>fever</th>\n",
       "      <th>sore_throat</th>\n",
       "      <th>shortness_of_breath</th>\n",
       "      <th>head_ache</th>\n",
       "      <th>corona_result</th>\n",
       "      <th>age_60_and_above</th>\n",
       "      <th>gender</th>\n",
       "      <th>test_indication</th>\n",
       "      <th>test_day</th>\n",
       "      <th>test_weekday</th>\n",
       "      <th>test_month</th>\n",
       "    </tr>\n",
       "  </thead>\n",
       "  <tbody>\n",
       "    <tr>\n",
       "      <th>0</th>\n",
       "      <td>2020-04-30</td>\n",
       "      <td>0.0</td>\n",
       "      <td>0.0</td>\n",
       "      <td>0.0</td>\n",
       "      <td>0.0</td>\n",
       "      <td>0.0</td>\n",
       "      <td>negative</td>\n",
       "      <td>NaN</td>\n",
       "      <td>female</td>\n",
       "      <td>Other</td>\n",
       "      <td>30</td>\n",
       "      <td>3</td>\n",
       "      <td>4</td>\n",
       "    </tr>\n",
       "    <tr>\n",
       "      <th>1</th>\n",
       "      <td>2020-04-30</td>\n",
       "      <td>1.0</td>\n",
       "      <td>0.0</td>\n",
       "      <td>0.0</td>\n",
       "      <td>0.0</td>\n",
       "      <td>0.0</td>\n",
       "      <td>negative</td>\n",
       "      <td>NaN</td>\n",
       "      <td>female</td>\n",
       "      <td>Other</td>\n",
       "      <td>30</td>\n",
       "      <td>3</td>\n",
       "      <td>4</td>\n",
       "    </tr>\n",
       "    <tr>\n",
       "      <th>2</th>\n",
       "      <td>2020-04-30</td>\n",
       "      <td>0.0</td>\n",
       "      <td>1.0</td>\n",
       "      <td>0.0</td>\n",
       "      <td>0.0</td>\n",
       "      <td>0.0</td>\n",
       "      <td>negative</td>\n",
       "      <td>NaN</td>\n",
       "      <td>male</td>\n",
       "      <td>Other</td>\n",
       "      <td>30</td>\n",
       "      <td>3</td>\n",
       "      <td>4</td>\n",
       "    </tr>\n",
       "    <tr>\n",
       "      <th>3</th>\n",
       "      <td>2020-04-30</td>\n",
       "      <td>1.0</td>\n",
       "      <td>0.0</td>\n",
       "      <td>0.0</td>\n",
       "      <td>0.0</td>\n",
       "      <td>0.0</td>\n",
       "      <td>negative</td>\n",
       "      <td>NaN</td>\n",
       "      <td>female</td>\n",
       "      <td>Other</td>\n",
       "      <td>30</td>\n",
       "      <td>3</td>\n",
       "      <td>4</td>\n",
       "    </tr>\n",
       "    <tr>\n",
       "      <th>4</th>\n",
       "      <td>2020-04-30</td>\n",
       "      <td>1.0</td>\n",
       "      <td>0.0</td>\n",
       "      <td>0.0</td>\n",
       "      <td>0.0</td>\n",
       "      <td>0.0</td>\n",
       "      <td>negative</td>\n",
       "      <td>NaN</td>\n",
       "      <td>male</td>\n",
       "      <td>Other</td>\n",
       "      <td>30</td>\n",
       "      <td>3</td>\n",
       "      <td>4</td>\n",
       "    </tr>\n",
       "  </tbody>\n",
       "</table>\n",
       "</div>"
      ],
      "text/plain": [
       "   test_date  cough  fever  sore_throat  shortness_of_breath  head_ache  \\\n",
       "0 2020-04-30    0.0    0.0          0.0                  0.0        0.0   \n",
       "1 2020-04-30    1.0    0.0          0.0                  0.0        0.0   \n",
       "2 2020-04-30    0.0    1.0          0.0                  0.0        0.0   \n",
       "3 2020-04-30    1.0    0.0          0.0                  0.0        0.0   \n",
       "4 2020-04-30    1.0    0.0          0.0                  0.0        0.0   \n",
       "\n",
       "  corona_result age_60_and_above  gender test_indication  test_day  \\\n",
       "0      negative              NaN  female           Other        30   \n",
       "1      negative              NaN  female           Other        30   \n",
       "2      negative              NaN    male           Other        30   \n",
       "3      negative              NaN  female           Other        30   \n",
       "4      negative              NaN    male           Other        30   \n",
       "\n",
       "   test_weekday  test_month  \n",
       "0             3           4  \n",
       "1             3           4  \n",
       "2             3           4  \n",
       "3             3           4  \n",
       "4             3           4  "
      ]
     },
     "execution_count": 7,
     "metadata": {},
     "output_type": "execute_result"
    }
   ],
   "source": [
    "# Add your code here\n",
    "data = pd.read_csv('data/corona_tested_individuals_ver_006.english.csv', dtype={'age_60_and_above': str})\n",
    "data['test_date'] = pd.to_datetime(data['test_date'] )\n",
    "\n",
    "data['test_day'] = data['test_date'].dt.day\n",
    "data['test_weekday'] = data['test_date'].dt.weekday\n",
    "data['test_month'] = data['test_date'].dt.month\n",
    "\n",
    "data.head()"
   ]
  },
  {
   "cell_type": "code",
   "execution_count": 8,
   "metadata": {},
   "outputs": [
    {
     "data": {
      "image/png": "[encoded data removed]",
      "text/plain": [
       "<Figure size 640x480 with 1 Axes>"
      ]
     },
     "metadata": {},
     "output_type": "display_data"
    }
   ],
   "source": [
    "# what is the trend of results over time?\n",
    "\n",
    "test = data.pivot_table(index = ['test_date'], \n",
    "                        columns = ['corona_result'], \n",
    "                        values = ['test_indication'], \n",
    "                        aggfunc = 'count' , margins = 'all')\n",
    "\n",
    "test.columns = ['neg','pos','other','all']\n",
    "\n",
    "test.head()\n",
    "test = test.iloc[:-1,:]\n",
    "test['perc_neg'] = test['neg'] / test['all']\n",
    "test['perc_pos'] = test['pos'] / test['all']\n",
    "test['perc_other'] = test['other'] / test['all']\n",
    "test.head()\n",
    "plt.plot(test['perc_neg'])\n",
    "plt.plot(test['perc_pos'])\n",
    "plt.plot(test['perc_other'])\n",
    "plt.show()        \n",
    "\n"
   ]
  },
  {
   "cell_type": "markdown",
   "metadata": {
    "slideshow": {
     "slide_type": "slide"
    }
   },
   "source": [
    "**Question 1**\n",
    "\n",
    "Descibe the dataset\n",
    "\n",
    "- There are 278,848 observations\n",
    "\n",
    "Exploratory Data Analysis\n",
    "\n",
    "Think about possible biases and limitations of this dataset. What are the sources of uncertainty?\n",
    "* What is the format of feature values?\n",
    "* What is the statistics of these feature values? How many symptoms are reported or not?\n",
    "* Which symptoms have a reporting bias, i.e., likely to be reported when the patient is COVID positive?\n",
    "* How will the symptoms with reporting bias affect the model’s performance?\n",
    "* Visualization: Draw the bar graph of features grouped by the target class?\n",
    "* What does the bar graph of the symptoms with reporting bias look like?\n",
    "* Determine if we have a class imbalance in the dataset? If so, what do you reckon will be the downstream challenges in evaluating the model? How will you overcome those challenges?"
   ]
  },
  {
   "cell_type": "code",
   "execution_count": 9,
   "metadata": {},
   "outputs": [],
   "source": [
    "# data.info()"
   ]
  },
  {
   "cell_type": "code",
   "execution_count": 10,
   "metadata": {
    "scrolled": false
   },
   "outputs": [],
   "source": [
    "# data.isna().sum()"
   ]
  },
  {
   "cell_type": "markdown",
   "metadata": {},
   "source": [
    "## Observations\n",
    "\n",
    "| Columns            | dtype    | Null Count | Thoughts |\n",
    "|--------------------|----------|------------|----------|\n",
    "| test_date          |  datetime|           0| We need to look at the trending over time and if that effects result|\n",
    "| cough              |   float  |         252| |\n",
    "| fever              |    float |         252| |\n",
    "| sore_throat        |    float |           1| |\n",
    "| shortness_of_breath|  float   |           1| |\n",
    "| head_ache          |   float  |           1| |\n",
    "| corona_result      |   object |           0| we have 93% negatives so need to be careful here |\n",
    "| age_60_and_above   | object   |      127320| we could look to remove this feature in the initial model; we could change to categorical: under 60, over 60 and missing |\n",
    "| gender             | object   |       19563| we could look to remove this feature in the initial model |\n",
    "| test_indication    |  object  |           0| |\n",
    "\n",
    "* There are 278,848 observations\n",
    "* We need to look at the null data within the positive dataset to see how much of an impact the null values have on the result\n",
    "* We should consider SMOTE for our null float values"
   ]
  },
  {
   "cell_type": "code",
   "execution_count": 11,
   "metadata": {},
   "outputs": [
    {
     "data": {
      "text/html": [
       "<div>\n",
       "<style scoped>\n",
       "    .dataframe tbody tr th:only-of-type {\n",
       "        vertical-align: middle;\n",
       "    }\n",
       "\n",
       "    .dataframe tbody tr th {\n",
       "        vertical-align: top;\n",
       "    }\n",
       "\n",
       "    .dataframe thead th {\n",
       "        text-align: right;\n",
       "    }\n",
       "</style>\n",
       "<table border=\"1\" class=\"dataframe\">\n",
       "  <thead>\n",
       "    <tr style=\"text-align: right;\">\n",
       "      <th></th>\n",
       "      <th>corona_result</th>\n",
       "      <th>cough</th>\n",
       "      <th>count</th>\n",
       "      <th>result_sum</th>\n",
       "      <th>result_perc</th>\n",
       "    </tr>\n",
       "  </thead>\n",
       "  <tbody>\n",
       "    <tr>\n",
       "      <th>0</th>\n",
       "      <td>negative</td>\n",
       "      <td>0.0</td>\n",
       "      <td>225021</td>\n",
       "      <td>260227</td>\n",
       "      <td>86.47</td>\n",
       "    </tr>\n",
       "    <tr>\n",
       "      <th>1</th>\n",
       "      <td>negative</td>\n",
       "      <td>1.0</td>\n",
       "      <td>34987</td>\n",
       "      <td>260227</td>\n",
       "      <td>13.44</td>\n",
       "    </tr>\n",
       "    <tr>\n",
       "      <th>2</th>\n",
       "      <td>negative</td>\n",
       "      <td>NaN</td>\n",
       "      <td>219</td>\n",
       "      <td>260227</td>\n",
       "      <td>0.08</td>\n",
       "    </tr>\n",
       "    <tr>\n",
       "      <th>3</th>\n",
       "      <td>other</td>\n",
       "      <td>0.0</td>\n",
       "      <td>3235</td>\n",
       "      <td>3892</td>\n",
       "      <td>83.12</td>\n",
       "    </tr>\n",
       "    <tr>\n",
       "      <th>4</th>\n",
       "      <td>other</td>\n",
       "      <td>1.0</td>\n",
       "      <td>657</td>\n",
       "      <td>3892</td>\n",
       "      <td>16.88</td>\n",
       "    </tr>\n",
       "    <tr>\n",
       "      <th>5</th>\n",
       "      <td>positive</td>\n",
       "      <td>0.0</td>\n",
       "      <td>8112</td>\n",
       "      <td>14729</td>\n",
       "      <td>55.08</td>\n",
       "    </tr>\n",
       "    <tr>\n",
       "      <th>6</th>\n",
       "      <td>positive</td>\n",
       "      <td>1.0</td>\n",
       "      <td>6584</td>\n",
       "      <td>14729</td>\n",
       "      <td>44.70</td>\n",
       "    </tr>\n",
       "    <tr>\n",
       "      <th>7</th>\n",
       "      <td>positive</td>\n",
       "      <td>NaN</td>\n",
       "      <td>33</td>\n",
       "      <td>14729</td>\n",
       "      <td>0.22</td>\n",
       "    </tr>\n",
       "  </tbody>\n",
       "</table>\n",
       "</div>"
      ],
      "text/plain": [
       "  corona_result  cough   count  result_sum  result_perc\n",
       "0      negative    0.0  225021      260227        86.47\n",
       "1      negative    1.0   34987      260227        13.44\n",
       "2      negative    NaN     219      260227         0.08\n",
       "3         other    0.0    3235        3892        83.12\n",
       "4         other    1.0     657        3892        16.88\n",
       "5      positive    0.0    8112       14729        55.08\n",
       "6      positive    1.0    6584       14729        44.70\n",
       "7      positive    NaN      33       14729         0.22"
      ]
     },
     "execution_count": 11,
     "metadata": {},
     "output_type": "execute_result"
    }
   ],
   "source": [
    "# what about cough?\n",
    "\n",
    "test = data.groupby(['corona_result','cough'], dropna = False).size().reset_index(name = 'count')\n",
    "test['result_sum'] = test.groupby(['corona_result'])['count'].transform('sum')\n",
    "test['result_perc'] = round(test['count'] / test['result_sum'] * 100, 2)\n",
    "test\n",
    "# print('''\n",
    "# Observation:\n",
    "# * ''')"
   ]
  },
  {
   "cell_type": "code",
   "execution_count": 12,
   "metadata": {},
   "outputs": [
    {
     "data": {
      "text/plain": [
       "test_date                   0\n",
       "cough                     251\n",
       "fever                     251\n",
       "sore_throat                 0\n",
       "shortness_of_breath         0\n",
       "head_ache                   0\n",
       "corona_result               0\n",
       "age_60_and_above       127319\n",
       "gender                  19562\n",
       "test_indication             0\n",
       "test_day                    0\n",
       "test_weekday                0\n",
       "test_month                  0\n",
       "dtype: int64"
      ]
     },
     "execution_count": 12,
     "metadata": {},
     "output_type": "execute_result"
    }
   ],
   "source": [
    "# Pre-Processing\n",
    "# remove nulls from sore_throat, shortness_of_breath and head_ache as there will be little impact on the outcome\n",
    "df = data.copy()\n",
    "df = df.dropna(subset=['sore_throat', 'shortness_of_breath', 'head_ache'])\n",
    "df.isna().sum()"
   ]
  },
  {
   "cell_type": "code",
   "execution_count": 13,
   "metadata": {},
   "outputs": [
    {
     "data": {
      "text/plain": [
       "test_date                                 0\n",
       "sore_throat                               0\n",
       "shortness_of_breath                       0\n",
       "head_ache                                 0\n",
       "corona_result                             0\n",
       "test_day                                  0\n",
       "test_weekday                              0\n",
       "test_month                                0\n",
       "age_60_and_above_No                       0\n",
       "age_60_and_above_Yes                      0\n",
       "age_60_and_above_missing                  0\n",
       "gender_female                             0\n",
       "gender_male                               0\n",
       "gender_missing                            0\n",
       "cough_0.0                                 0\n",
       "cough_1.0                                 0\n",
       "cough_missing                             0\n",
       "fever_0.0                                 0\n",
       "fever_1.0                                 0\n",
       "fever_missing                             0\n",
       "test_indication_Abroad                    0\n",
       "test_indication_Contact with confirmed    0\n",
       "test_indication_Other                     0\n",
       "dtype: int64"
      ]
     },
     "execution_count": 13,
     "metadata": {},
     "output_type": "execute_result"
    }
   ],
   "source": [
    "# now one hot encode age 60 and gender\n",
    "df['age_60_and_above'] = df['age_60_and_above'].fillna('missing')\n",
    "df['gender'] = df['gender'].fillna('missing')\n",
    "df['cough'] = df['cough'].fillna('missing')\n",
    "df['fever'] = df['fever'].fillna('missing')\n",
    "\n",
    "one_hot_encoded_data = pd.get_dummies(df, columns = ['age_60_and_above','gender','cough','fever','test_indication'])\n",
    "#display(one_hot_encoded_data.sample(10))\n",
    "one_hot_encoded_data.isna().sum()"
   ]
  },
  {
   "cell_type": "code",
   "execution_count": null,
   "metadata": {},
   "outputs": [],
   "source": [
    "# for each feature do we see a change in positive results over time?\n",
    "\n",
    "test = one_hot_encoded_data[one_hot_encoded_data['corona_result']=='positive']\n",
    "\n",
    "test_vals = ['sore_throat', 'shortness_of_breath', 'head_ache',\n",
    "       'corona_result', 'age_60_and_above_No', 'age_60_and_above_Yes',\n",
    "       'age_60_and_above_missing', 'gender_female', 'gender_male',\n",
    "       'gender_missing', 'cough_1.0', 'cough_missing',\n",
    "       'fever_1.0', 'fever_missing', 'test_indication_Abroad',\n",
    "       'test_indication_Contact with confirmed', 'test_indication_Other']\n",
    "\n",
    "test = test.pivot_table(index = 'test_date', values = test_vals, aggfunc = 'sum')\n",
    "\n",
    "# plt.figure(figsize = (20,10))\n",
    "# for c in test.columns:\n",
    "#     plt.plot(test[c])\n",
    "# plt.legend(test_vals)\n",
    "# plt.show()\n",
    "\n",
    "test"
   ]
  },
  {
   "cell_type": "markdown",
   "metadata": {},
   "source": [
    "## Baseline model\n",
    "\n",
    "\n"
   ]
  },
  {
   "cell_type": "code",
   "execution_count": 162,
   "metadata": {},
   "outputs": [],
   "source": [
    "X = one_hot_encoded_data.drop(columns = ['corona_result','test_date'])\n",
    "y = one_hot_encoded_data['corona_result']"
   ]
  },
  {
   "cell_type": "code",
   "execution_count": 189,
   "metadata": {},
   "outputs": [],
   "source": [
    "# train test split\n",
    "\n",
    "X_train, X_test, y_train, y_test = train_test_split(X,y, train_size= 0.8 ,stratify = y)"
   ]
  },
  {
   "cell_type": "code",
   "execution_count": 200,
   "metadata": {},
   "outputs": [],
   "source": [
    "print(set(y_train))\n",
    "print(set(y_test))"
   ]
  },
  {
   "cell_type": "code",
   "execution_count": 191,
   "metadata": {},
   "outputs": [],
   "source": [
    "lr = LogisticRegression()\n"
   ]
  },
  {
   "cell_type": "code",
   "execution_count": 192,
   "metadata": {},
   "outputs": [],
   "source": [
    "lr.fit(X_train, y_train)"
   ]
  },
  {
   "cell_type": "code",
   "execution_count": 193,
   "metadata": {},
   "outputs": [],
   "source": [
    "y_pred = lr.predict(X_test)"
   ]
  },
  {
   "cell_type": "code",
   "execution_count": 194,
   "metadata": {},
   "outputs": [],
   "source": [
    "accuracy = accuracy_score(y_test, y_pred)\n",
    "print('Model Accuracy:', accuracy)"
   ]
  },
  {
   "cell_type": "markdown",
   "metadata": {},
   "source": [
    "This looks really good! But what about against each result?"
   ]
  },
  {
   "cell_type": "code",
   "execution_count": 195,
   "metadata": {},
   "outputs": [],
   "source": [
    "set(y_train)"
   ]
  },
  {
   "cell_type": "code",
   "execution_count": 201,
   "metadata": {},
   "outputs": [],
   "source": [
    "set(y_pred)"
   ]
  },
  {
   "cell_type": "code",
   "execution_count": 202,
   "metadata": {},
   "outputs": [],
   "source": [
    "y_test.value_counts()"
   ]
  },
  {
   "cell_type": "code",
   "execution_count": 198,
   "metadata": {},
   "outputs": [],
   "source": [
    "cm = confusion_matrix(y_test, y_pred)\n",
    "sns.heatmap(cm, annot = True, fmt = 'd', cmap = 'Blues')"
   ]
  },
  {
   "cell_type": "code",
   "execution_count": 199,
   "metadata": {},
   "outputs": [],
   "source": [
    "cm_norm = cm.astype('float') / cm.sum(axis=1)[:, np.newaxis]\n",
    "sns.heatmap(cm_norm, annot = True, fmt = '.2%', cmap = 'Blues');"
   ]
  },
  {
   "cell_type": "code",
   "execution_count": 208,
   "metadata": {},
   "outputs": [],
   "source": [
    "class_report = classification_report(y_test, y_pred)\n",
    "print(class_report)"
   ]
  },
  {
   "cell_type": "code",
   "execution_count": 210,
   "metadata": {},
   "outputs": [],
   "source": [
    "feature_importance = pd.DataFrame({'Feature': X.columns,\n",
    "                                  'Importance': lr.coef_[0]}).sort_values(by = 'Importance', \n",
    "                                                                          ascending = False)\n",
    "\n",
    "feature_importance"
   ]
  },
  {
   "cell_type": "code",
   "execution_count": null,
   "metadata": {},
   "outputs": [],
   "source": []
  },
  {
   "cell_type": "code",
   "execution_count": null,
   "metadata": {},
   "outputs": [],
   "source": []
  },
  {
   "cell_type": "code",
   "execution_count": null,
   "metadata": {},
   "outputs": [],
   "source": []
  },
  {
   "cell_type": "code",
   "execution_count": null,
   "metadata": {},
   "outputs": [],
   "source": []
  },
  {
   "cell_type": "code",
   "execution_count": null,
   "metadata": {},
   "outputs": [],
   "source": []
  },
  {
   "cell_type": "code",
   "execution_count": null,
   "metadata": {},
   "outputs": [],
   "source": []
  },
  {
   "cell_type": "code",
   "execution_count": 49,
   "metadata": {},
   "outputs": [],
   "source": [
    "# lets one hot encode age_60_and_above to '60_and_above', 'under_60', 'unknown'\n",
    "\n",
    "from sklearn.pipeline import Pipeline\n",
    "from sklearn.preprocessing import StandardScaler\n",
    "\n",
    "# Define preprocessing steps\n",
    "preprocessor = StandardScaler()\n",
    "\n",
    "# Define the model\n",
    "model = LogisticRegression()\n",
    "\n",
    "# Create the pipeline\n",
    "pipeline = Pipeline(steps=[('preprocessor', preprocessor),\n",
    "                           ('model', model)])\n",
    "\n",
    "# Assume X_train and y_train are your data\n",
    "# pipeline.fit(X_train, y_train)"
   ]
  },
  {
   "cell_type": "code",
   "execution_count": 212,
   "metadata": {},
   "outputs": [],
   "source": [
    "for c in data.columns[1:]:\n",
    "    print(c)\n",
    "    if c == 'corona_result':\n",
    "        pass\n",
    "    else:\n",
    "        plt.title(c)\n",
    "        for a in one_hot_encoded_data.corona_result.unique():\n",
    "            try:\n",
    "                plt.hist(one_hot_encoded_data[one_hot_encoded_data.corona_result == a][c], bins = 2)\n",
    "            except:\n",
    "                pass\n",
    "        plt.show()\n",
    "    "
   ]
  },
  {
   "cell_type": "code",
   "execution_count": 31,
   "metadata": {},
   "outputs": [],
   "source": []
  },
  {
   "cell_type": "code",
   "execution_count": null,
   "metadata": {},
   "outputs": [],
   "source": []
  }
 ],
 "metadata": {
  "kernelspec": {
   "display_name": "Python 3 (ipykernel)",
   "language": "python",
   "name": "python3"
  },
  "language_info": {
   "codemirror_mode": {
    "name": "ipython",
    "version": 3
   },
   "file_extension": ".py",
   "mimetype": "text/x-python",
   "name": "python",
   "nbconvert_exporter": "python",
   "pygments_lexer": "ipython3",
   "version": "3.11.9"
  }
 },
 "nbformat": 4,
 "nbformat_minor": 1
}
