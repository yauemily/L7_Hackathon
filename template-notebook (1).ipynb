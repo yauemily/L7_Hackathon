{
 "cells": [
  {
   "cell_type": "markdown",
   "metadata": {
    "slideshow": {
     "slide_type": "slide"
    }
   },
   "source": [
    "# Template notebook"
   ]
  },
  {
   "cell_type": "markdown",
   "metadata": {
    "slideshow": {
     "slide_type": "slide"
    }
   },
   "source": [
    "It's good to start with an introduction, to set the scene and introduce your audience to the data, and the problem you're solving as a team.\n",
    "\n",
    "<br>\n",
    "\n",
    "## Libraries\n",
    "As always, we'll start by importing the necessary libraries."
   ]
  },
  {
   "cell_type": "code",
   "execution_count": 77,
   "metadata": {
    "slideshow": {
     "slide_type": "slide"
    }
   },
   "outputs": [],
   "source": [
    "# It's good practice to add comments to explain your code \n",
    "import numpy as np\n",
    "import pandas as pd\n",
    "import matplotlib.pyplot as plt"
   ]
  },
  {
   "cell_type": "markdown",
   "metadata": {},
   "source": [
    "## Load in the data"
   ]
  },
  {
   "cell_type": "code",
   "execution_count": 78,
   "metadata": {},
   "outputs": [],
   "source": [
    "data = pd.read_csv(\"data/corona_tested_individuals_ver_006.english.csv\", na_values='None', dtype = {'age_60_and_above':str})"
   ]
  },
  {
   "cell_type": "code",
   "execution_count": 79,
   "metadata": {},
   "outputs": [
    {
     "data": {
      "text/html": [
       "<div>\n",
       "<style scoped>\n",
       "    .dataframe tbody tr th:only-of-type {\n",
       "        vertical-align: middle;\n",
       "    }\n",
       "\n",
       "    .dataframe tbody tr th {\n",
       "        vertical-align: top;\n",
       "    }\n",
       "\n",
       "    .dataframe thead th {\n",
       "        text-align: right;\n",
       "    }\n",
       "</style>\n",
       "<table border=\"1\" class=\"dataframe\">\n",
       "  <thead>\n",
       "    <tr style=\"text-align: right;\">\n",
       "      <th></th>\n",
       "      <th>test_date</th>\n",
       "      <th>cough</th>\n",
       "      <th>fever</th>\n",
       "      <th>sore_throat</th>\n",
       "      <th>shortness_of_breath</th>\n",
       "      <th>head_ache</th>\n",
       "      <th>corona_result</th>\n",
       "      <th>age_60_and_above</th>\n",
       "      <th>gender</th>\n",
       "      <th>test_indication</th>\n",
       "    </tr>\n",
       "  </thead>\n",
       "  <tbody>\n",
       "    <tr>\n",
       "      <th>0</th>\n",
       "      <td>2020-04-30</td>\n",
       "      <td>0.0</td>\n",
       "      <td>0.0</td>\n",
       "      <td>0.0</td>\n",
       "      <td>0.0</td>\n",
       "      <td>0.0</td>\n",
       "      <td>negative</td>\n",
       "      <td>NaN</td>\n",
       "      <td>female</td>\n",
       "      <td>Other</td>\n",
       "    </tr>\n",
       "    <tr>\n",
       "      <th>1</th>\n",
       "      <td>2020-04-30</td>\n",
       "      <td>1.0</td>\n",
       "      <td>0.0</td>\n",
       "      <td>0.0</td>\n",
       "      <td>0.0</td>\n",
       "      <td>0.0</td>\n",
       "      <td>negative</td>\n",
       "      <td>NaN</td>\n",
       "      <td>female</td>\n",
       "      <td>Other</td>\n",
       "    </tr>\n",
       "    <tr>\n",
       "      <th>2</th>\n",
       "      <td>2020-04-30</td>\n",
       "      <td>0.0</td>\n",
       "      <td>1.0</td>\n",
       "      <td>0.0</td>\n",
       "      <td>0.0</td>\n",
       "      <td>0.0</td>\n",
       "      <td>negative</td>\n",
       "      <td>NaN</td>\n",
       "      <td>male</td>\n",
       "      <td>Other</td>\n",
       "    </tr>\n",
       "    <tr>\n",
       "      <th>3</th>\n",
       "      <td>2020-04-30</td>\n",
       "      <td>1.0</td>\n",
       "      <td>0.0</td>\n",
       "      <td>0.0</td>\n",
       "      <td>0.0</td>\n",
       "      <td>0.0</td>\n",
       "      <td>negative</td>\n",
       "      <td>NaN</td>\n",
       "      <td>female</td>\n",
       "      <td>Other</td>\n",
       "    </tr>\n",
       "    <tr>\n",
       "      <th>4</th>\n",
       "      <td>2020-04-30</td>\n",
       "      <td>1.0</td>\n",
       "      <td>0.0</td>\n",
       "      <td>0.0</td>\n",
       "      <td>0.0</td>\n",
       "      <td>0.0</td>\n",
       "      <td>negative</td>\n",
       "      <td>NaN</td>\n",
       "      <td>male</td>\n",
       "      <td>Other</td>\n",
       "    </tr>\n",
       "  </tbody>\n",
       "</table>\n",
       "</div>"
      ],
      "text/plain": [
       "    test_date  cough  fever  sore_throat  shortness_of_breath  head_ache  \\\n",
       "0  2020-04-30    0.0    0.0          0.0                  0.0        0.0   \n",
       "1  2020-04-30    1.0    0.0          0.0                  0.0        0.0   \n",
       "2  2020-04-30    0.0    1.0          0.0                  0.0        0.0   \n",
       "3  2020-04-30    1.0    0.0          0.0                  0.0        0.0   \n",
       "4  2020-04-30    1.0    0.0          0.0                  0.0        0.0   \n",
       "\n",
       "  corona_result age_60_and_above  gender test_indication  \n",
       "0      negative              NaN  female           Other  \n",
       "1      negative              NaN  female           Other  \n",
       "2      negative              NaN    male           Other  \n",
       "3      negative              NaN  female           Other  \n",
       "4      negative              NaN    male           Other  "
      ]
     },
     "execution_count": 79,
     "metadata": {},
     "output_type": "execute_result"
    }
   ],
   "source": [
    "data.head()"
   ]
  },
  {
   "cell_type": "markdown",
   "metadata": {},
   "source": [
    "## EDA"
   ]
  },
  {
   "cell_type": "code",
   "execution_count": 80,
   "metadata": {},
   "outputs": [
    {
     "name": "stdout",
     "output_type": "stream",
     "text": [
      "\n",
      "Summary statistics:\n",
      "               cough          fever    sore_throat  shortness_of_breath  \\\n",
      "count  278596.000000  278596.000000  278847.000000        278847.000000   \n",
      "mean        0.151574       0.078077       0.006907             0.005655   \n",
      "std         0.358608       0.268294       0.082821             0.074990   \n",
      "min         0.000000       0.000000       0.000000             0.000000   \n",
      "25%         0.000000       0.000000       0.000000             0.000000   \n",
      "50%         0.000000       0.000000       0.000000             0.000000   \n",
      "75%         0.000000       0.000000       0.000000             0.000000   \n",
      "max         1.000000       1.000000       1.000000             1.000000   \n",
      "\n",
      "           head_ache  \n",
      "count  278847.000000  \n",
      "mean        0.008657  \n",
      "std         0.092640  \n",
      "min         0.000000  \n",
      "25%         0.000000  \n",
      "50%         0.000000  \n",
      "75%         0.000000  \n",
      "max         1.000000  \n"
     ]
    }
   ],
   "source": [
    "# Summary statistics\n",
    "print(\"\\nSummary statistics:\")\n",
    "print(data.describe())"
   ]
  },
  {
   "cell_type": "code",
   "execution_count": 81,
   "metadata": {},
   "outputs": [
    {
     "name": "stdout",
     "output_type": "stream",
     "text": [
      "\n",
      "Missing values in each column:\n",
      "test_date                   0\n",
      "cough                     252\n",
      "fever                     252\n",
      "sore_throat                 1\n",
      "shortness_of_breath         1\n",
      "head_ache                   1\n",
      "corona_result               0\n",
      "age_60_and_above       127320\n",
      "gender                  19563\n",
      "test_indication             0\n",
      "dtype: int64\n"
     ]
    }
   ],
   "source": [
    "# Check for missing values\n",
    "print(\"\\nMissing values in each column:\")\n",
    "print(data.isnull().sum())"
   ]
  },
  {
   "cell_type": "code",
   "execution_count": 82,
   "metadata": {},
   "outputs": [
    {
     "name": "stdout",
     "output_type": "stream",
     "text": [
      "\n",
      "Data types of each column:\n",
      "test_date               object\n",
      "cough                  float64\n",
      "fever                  float64\n",
      "sore_throat            float64\n",
      "shortness_of_breath    float64\n",
      "head_ache              float64\n",
      "corona_result           object\n",
      "age_60_and_above        object\n",
      "gender                  object\n",
      "test_indication         object\n",
      "dtype: object\n"
     ]
    }
   ],
   "source": [
    "# Data types of each column\n",
    "print(\"\\nData types of each column:\")\n",
    "print(data.dtypes)\n"
   ]
  },
  {
   "cell_type": "code",
   "execution_count": 83,
   "metadata": {},
   "outputs": [
    {
     "data": {
      "image/png": "[encoded data removed]",
      "text/plain": [
       "<Figure size 720x432 with 1 Axes>"
      ]
     },
     "metadata": {
      "needs_background": "light"
     },
     "output_type": "display_data"
    },
    {
     "data": {
      "image/png": "[encoded data removed]",
      "text/plain": [
       "<Figure size 720x432 with 1 Axes>"
      ]
     },
     "metadata": {
      "needs_background": "light"
     },
     "output_type": "display_data"
    },
    {
     "data": {
      "image/png": "[encoded data removed]",
      "text/plain": [
       "<Figure size 720x432 with 1 Axes>"
      ]
     },
     "metadata": {
      "needs_background": "light"
     },
     "output_type": "display_data"
    },
    {
     "data": {
      "image/png": "[encoded data removed]",
      "text/plain": [
       "<Figure size 720x432 with 1 Axes>"
      ]
     },
     "metadata": {
      "needs_background": "light"
     },
     "output_type": "display_data"
    },
    {
     "data": {
      "image/png": "[encoded data removed]",
      "text/plain": [
       "<Figure size 720x432 with 1 Axes>"
      ]
     },
     "metadata": {
      "needs_background": "light"
     },
     "output_type": "display_data"
    }
   ],
   "source": [
    "# Plot spread of numerical columns\n",
    "numerical_columns = data.select_dtypes(include=[np.number]).columns\n",
    "\n",
    "for column in numerical_columns:\n",
    "    plt.figure(figsize=(10, 6))\n",
    "    plt.hist(data[column].dropna(), bins=30, edgecolor='k', alpha=0.7)\n",
    "    plt.title(f'Distribution of {column}')\n",
    "    plt.xlabel(column)\n",
    "    plt.ylabel('Frequency')\n",
    "    plt.show()\n",
    "    \n",
    "# Numerical columns are really numeric categorical columns (0/1 values)"
   ]
  },
  {
   "cell_type": "code",
   "execution_count": 84,
   "metadata": {},
   "outputs": [
    {
     "name": "stdout",
     "output_type": "stream",
     "text": [
      "\n",
      "Value counts for corona_result:\n",
      "negative    260227\n",
      "positive     14729\n",
      "other         3892\n",
      "Name: corona_result, dtype: int64\n",
      "\n",
      "Value counts for age_60_and_above:\n",
      "No     125703\n",
      "Yes     25825\n",
      "Name: age_60_and_above, dtype: int64\n",
      "\n",
      "Value counts for gender:\n",
      "female    130158\n",
      "male      129127\n",
      "Name: gender, dtype: int64\n",
      "\n",
      "Value counts for test_indication:\n",
      "Other                     242741\n",
      "Abroad                     25468\n",
      "Contact with confirmed     10639\n",
      "Name: test_indication, dtype: int64\n"
     ]
    }
   ],
   "source": [
    "categorical_columns = ['corona_result', 'age_60_and_above', 'gender', 'test_indication']\n",
    "\n",
    "for column in categorical_columns:\n",
    "    print(f\"\\nValue counts for {column}:\")\n",
    "    print(data[column].value_counts())"
   ]
  },
  {
   "cell_type": "code",
   "execution_count": 85,
   "metadata": {},
   "outputs": [
    {
     "data": {
      "image/png": "[encoded data removed]",
      "text/plain": [
       "<Figure size 864x576 with 2 Axes>"
      ]
     },
     "metadata": {
      "needs_background": "light"
     },
     "output_type": "display_data"
    }
   ],
   "source": [
    "import seaborn as sns\n",
    "\n",
    "plt.figure(figsize=(12, 8))\n",
    "sns.heatmap(data[numerical_columns].corr(), annot=True, fmt='.2f', cmap='coolwarm')\n",
    "plt.title('Heatmap of Correlation Matrix')\n",
    "plt.show()\n",
    "\n"
   ]
  },
  {
   "cell_type": "code",
   "execution_count": 86,
   "metadata": {},
   "outputs": [
    {
     "data": {
      "text/html": [
       "<div>\n",
       "<style scoped>\n",
       "    .dataframe tbody tr th:only-of-type {\n",
       "        vertical-align: middle;\n",
       "    }\n",
       "\n",
       "    .dataframe tbody tr th {\n",
       "        vertical-align: top;\n",
       "    }\n",
       "\n",
       "    .dataframe thead th {\n",
       "        text-align: right;\n",
       "    }\n",
       "</style>\n",
       "<table border=\"1\" class=\"dataframe\">\n",
       "  <thead>\n",
       "    <tr style=\"text-align: right;\">\n",
       "      <th></th>\n",
       "      <th>cough</th>\n",
       "      <th>fever</th>\n",
       "      <th>sore_throat</th>\n",
       "      <th>shortness_of_breath</th>\n",
       "      <th>head_ache</th>\n",
       "    </tr>\n",
       "    <tr>\n",
       "      <th>corona_result</th>\n",
       "      <th></th>\n",
       "      <th></th>\n",
       "      <th></th>\n",
       "      <th></th>\n",
       "      <th></th>\n",
       "    </tr>\n",
       "  </thead>\n",
       "  <tbody>\n",
       "    <tr>\n",
       "      <th>negative</th>\n",
       "      <td>0.134561</td>\n",
       "      <td>0.060829</td>\n",
       "      <td>0.001406</td>\n",
       "      <td>0.001479</td>\n",
       "      <td>0.000569</td>\n",
       "    </tr>\n",
       "    <tr>\n",
       "      <th>other</th>\n",
       "      <td>0.168808</td>\n",
       "      <td>0.096865</td>\n",
       "      <td>0.008736</td>\n",
       "      <td>0.007194</td>\n",
       "      <td>0.007965</td>\n",
       "    </tr>\n",
       "    <tr>\n",
       "      <th>positive</th>\n",
       "      <td>0.448013</td>\n",
       "      <td>0.378266</td>\n",
       "      <td>0.103612</td>\n",
       "      <td>0.079033</td>\n",
       "      <td>0.151752</td>\n",
       "    </tr>\n",
       "  </tbody>\n",
       "</table>\n",
       "</div>"
      ],
      "text/plain": [
       "                  cough     fever  sore_throat  shortness_of_breath  head_ache\n",
       "corona_result                                                                 \n",
       "negative       0.134561  0.060829     0.001406             0.001479   0.000569\n",
       "other          0.168808  0.096865     0.008736             0.007194   0.007965\n",
       "positive       0.448013  0.378266     0.103612             0.079033   0.151752"
      ]
     },
     "metadata": {},
     "output_type": "display_data"
    }
   ],
   "source": [
    "#Group by 'corona_result' and calculate mean of numerical columns\n",
    "grouped_df = data.groupby('corona_result')[numerical_columns].mean()\n",
    "display(grouped_df)\n",
    "\n"
   ]
  },
  {
   "cell_type": "code",
   "execution_count": 87,
   "metadata": {},
   "outputs": [
    {
     "data": {
      "image/png": "[encoded data removed]",
      "text/plain": [
       "<Figure size 720x432 with 1 Axes>"
      ]
     },
     "metadata": {
      "needs_background": "light"
     },
     "output_type": "display_data"
    }
   ],
   "source": [
    "data['test_date'] = pd.to_datetime(data['test_date'])\n",
    "data.set_index('test_date', inplace=True)\n",
    "\n",
    "#Plotting the number of tests over time\n",
    "data['test_count'] = 1\n",
    "data['test_count'].resample('D').sum().plot(figsize=(10, 6))\n",
    "plt.title('Number of Tests Over Time')\n",
    "plt.show()\n"
   ]
  },
  {
   "cell_type": "markdown",
   "metadata": {},
   "source": [
    "## Pre-Processing "
   ]
  },
  {
   "cell_type": "code",
   "execution_count": 88,
   "metadata": {},
   "outputs": [
    {
     "data": {
      "text/plain": [
       "cough                     251\n",
       "fever                     251\n",
       "sore_throat                 0\n",
       "shortness_of_breath         0\n",
       "head_ache                   0\n",
       "corona_result               0\n",
       "age_60_and_above       127319\n",
       "gender                  19562\n",
       "test_indication             0\n",
       "test_count                  0\n",
       "dtype: int64"
      ]
     },
     "execution_count": 88,
     "metadata": {},
     "output_type": "execute_result"
    }
   ],
   "source": [
    "df = data.copy()\n",
    "df = df.dropna(subset=['sore_throat', 'shortness_of_breath', 'head_ache'])\n",
    "df.isna().sum()"
   ]
  },
  {
   "cell_type": "code",
   "execution_count": 89,
   "metadata": {},
   "outputs": [
    {
     "data": {
      "text/plain": [
       "sore_throat                 0\n",
       "shortness_of_breath         0\n",
       "head_ache                   0\n",
       "corona_result               0\n",
       "test_indication             0\n",
       "test_count                  0\n",
       "age_60_and_above_No         0\n",
       "age_60_and_above_Yes        0\n",
       "age_60_and_above_missing    0\n",
       "gender_female               0\n",
       "gender_male                 0\n",
       "gender_missing              0\n",
       "cough_0.0                   0\n",
       "cough_1.0                   0\n",
       "cough_missing               0\n",
       "fever_0.0                   0\n",
       "fever_1.0                   0\n",
       "fever_missing               0\n",
       "dtype: int64"
      ]
     },
     "execution_count": 89,
     "metadata": {},
     "output_type": "execute_result"
    }
   ],
   "source": [
    "# now one hot encode age 60 and gender\n",
    "df['age_60_and_above'] = df['age_60_and_above'].fillna('missing')\n",
    "df['gender'] = df['gender'].fillna('missing')\n",
    "df['cough'] = df['cough'].fillna('missing')\n",
    "df['fever'] = df['fever'].fillna('missing')\n",
    "\n",
    "one_hot_encoded_data = pd.get_dummies(df, columns = ['age_60_and_above','gender','cough','fever'])\n",
    "#display(one_hot_encoded_data.sample(10))\n",
    "one_hot_encoded_data.isna().sum()"
   ]
  },
  {
   "cell_type": "markdown",
   "metadata": {},
   "source": [
    "## Model\n",
    "\n",
    "### Logistic Regression\n",
    "For this basic model, we do not need date of the test taken.\n"
   ]
  },
  {
   "cell_type": "code",
   "execution_count": 90,
   "metadata": {},
   "outputs": [],
   "source": [
    "#pip install imbalanced-learn"
   ]
  },
  {
   "cell_type": "code",
   "execution_count": 91,
   "metadata": {},
   "outputs": [],
   "source": [
    "from sklearn.model_selection import train_test_split\n",
    "from sklearn.linear_model import LogisticRegression\n",
    "from sklearn.metrics import accuracy_score, confusion_matrix, classification_report\n",
    "from imblearn.under_sampling import RandomUnderSampler\n",
    "from imblearn.over_sampling import RandomOverSampler\n",
    "\n",
    "import numpy as np\n",
    "import pandas as pd\n",
    "import matplotlib.pyplot as plt"
   ]
  },
  {
   "cell_type": "code",
   "execution_count": 92,
   "metadata": {},
   "outputs": [
    {
     "data": {
      "text/plain": [
       "test_date                   0\n",
       "cough                     252\n",
       "fever                     252\n",
       "sore_throat                 1\n",
       "shortness_of_breath         1\n",
       "head_ache                   1\n",
       "corona_result               0\n",
       "age_60_and_above       127320\n",
       "gender                  19563\n",
       "test_indication             0\n",
       "dtype: int64"
      ]
     },
     "execution_count": 92,
     "metadata": {},
     "output_type": "execute_result"
    }
   ],
   "source": [
    "dataset = pd.read_csv(\"data/corona_tested_individuals_ver_006.english.csv\", na_values='None', dtype = {'age_60_and_above':str})\n",
    "dataset.isna().sum()"
   ]
  },
  {
   "cell_type": "code",
   "execution_count": 93,
   "metadata": {},
   "outputs": [
    {
     "data": {
      "text/plain": [
       "test_date                   0\n",
       "cough                     251\n",
       "fever                     251\n",
       "sore_throat                 0\n",
       "shortness_of_breath         0\n",
       "head_ache                   0\n",
       "corona_result               0\n",
       "age_60_and_above       127319\n",
       "gender                  19562\n",
       "test_indication             0\n",
       "dtype: int64"
      ]
     },
     "execution_count": 93,
     "metadata": {},
     "output_type": "execute_result"
    }
   ],
   "source": [
    "#dataset = dataset.drop(columns = ['test_date'])\n",
    "dataset['test_date'] = pd.to_datetime(dataset['test_date'])\n",
    "dataset2 = dataset.dropna(subset=['sore_throat', 'shortness_of_breath', 'head_ache'])\n",
    "dataset2.isna().sum()"
   ]
  },
  {
   "cell_type": "code",
   "execution_count": 94,
   "metadata": {},
   "outputs": [
    {
     "name": "stderr",
     "output_type": "stream",
     "text": [
      "C:\\Users\\EYAU\\AppData\\Local\\Temp\\ipykernel_10456\\1821539108.py:2: SettingWithCopyWarning: \n",
      "A value is trying to be set on a copy of a slice from a DataFrame.\n",
      "Try using .loc[row_indexer,col_indexer] = value instead\n",
      "\n",
      "See the caveats in the documentation: https://pandas.pydata.org/pandas-docs/stable/user_guide/indexing.html#returning-a-view-versus-a-copy\n",
      "  dataset2['test_month'] = dataset2['test_date'].dt.month\n",
      "C:\\Users\\EYAU\\AppData\\Local\\Temp\\ipykernel_10456\\1821539108.py:3: SettingWithCopyWarning: \n",
      "A value is trying to be set on a copy of a slice from a DataFrame.\n",
      "Try using .loc[row_indexer,col_indexer] = value instead\n",
      "\n",
      "See the caveats in the documentation: https://pandas.pydata.org/pandas-docs/stable/user_guide/indexing.html#returning-a-view-versus-a-copy\n",
      "  dataset2['test_day'] = dataset2['test_date'].dt.day\n",
      "C:\\Users\\EYAU\\AppData\\Local\\Temp\\ipykernel_10456\\1821539108.py:4: SettingWithCopyWarning: \n",
      "A value is trying to be set on a copy of a slice from a DataFrame.\n",
      "Try using .loc[row_indexer,col_indexer] = value instead\n",
      "\n",
      "See the caveats in the documentation: https://pandas.pydata.org/pandas-docs/stable/user_guide/indexing.html#returning-a-view-versus-a-copy\n",
      "  dataset2['test_dayofweek'] = dataset2['test_date'].dt.dayofweek\n"
     ]
    }
   ],
   "source": [
    "#dataset2['test_year'] = dataset2['test_date'].dt.year # not important\n",
    "dataset2['test_month'] = dataset2['test_date'].dt.month\n",
    "dataset2['test_day'] = dataset2['test_date'].dt.day\n",
    "dataset2['test_dayofweek'] = dataset2['test_date'].dt.dayofweek"
   ]
  },
  {
   "cell_type": "code",
   "execution_count": 95,
   "metadata": {},
   "outputs": [
    {
     "name": "stderr",
     "output_type": "stream",
     "text": [
      "C:\\Users\\EYAU\\AppData\\Local\\Temp\\ipykernel_10456\\1455117159.py:5: SettingWithCopyWarning: \n",
      "A value is trying to be set on a copy of a slice from a DataFrame.\n",
      "Try using .loc[row_indexer,col_indexer] = value instead\n",
      "\n",
      "See the caveats in the documentation: https://pandas.pydata.org/pandas-docs/stable/user_guide/indexing.html#returning-a-view-versus-a-copy\n",
      "  dataset2[col + '_missing'] = dataset2[col].isnull().astype(int)\n",
      "C:\\Users\\EYAU\\AppData\\Local\\Temp\\ipykernel_10456\\1455117159.py:5: SettingWithCopyWarning: \n",
      "A value is trying to be set on a copy of a slice from a DataFrame.\n",
      "Try using .loc[row_indexer,col_indexer] = value instead\n",
      "\n",
      "See the caveats in the documentation: https://pandas.pydata.org/pandas-docs/stable/user_guide/indexing.html#returning-a-view-versus-a-copy\n",
      "  dataset2[col + '_missing'] = dataset2[col].isnull().astype(int)\n",
      "C:\\Users\\EYAU\\AppData\\Local\\Temp\\ipykernel_10456\\1455117159.py:5: SettingWithCopyWarning: \n",
      "A value is trying to be set on a copy of a slice from a DataFrame.\n",
      "Try using .loc[row_indexer,col_indexer] = value instead\n",
      "\n",
      "See the caveats in the documentation: https://pandas.pydata.org/pandas-docs/stable/user_guide/indexing.html#returning-a-view-versus-a-copy\n",
      "  dataset2[col + '_missing'] = dataset2[col].isnull().astype(int)\n",
      "C:\\Users\\EYAU\\AppData\\Local\\Temp\\ipykernel_10456\\1455117159.py:5: SettingWithCopyWarning: \n",
      "A value is trying to be set on a copy of a slice from a DataFrame.\n",
      "Try using .loc[row_indexer,col_indexer] = value instead\n",
      "\n",
      "See the caveats in the documentation: https://pandas.pydata.org/pandas-docs/stable/user_guide/indexing.html#returning-a-view-versus-a-copy\n",
      "  dataset2[col + '_missing'] = dataset2[col].isnull().astype(int)\n",
      "C:\\Users\\EYAU\\AppData\\Local\\Temp\\ipykernel_10456\\1455117159.py:5: SettingWithCopyWarning: \n",
      "A value is trying to be set on a copy of a slice from a DataFrame.\n",
      "Try using .loc[row_indexer,col_indexer] = value instead\n",
      "\n",
      "See the caveats in the documentation: https://pandas.pydata.org/pandas-docs/stable/user_guide/indexing.html#returning-a-view-versus-a-copy\n",
      "  dataset2[col + '_missing'] = dataset2[col].isnull().astype(int)\n",
      "C:\\Users\\EYAU\\AppData\\Local\\Temp\\ipykernel_10456\\1455117159.py:8: SettingWithCopyWarning: \n",
      "A value is trying to be set on a copy of a slice from a DataFrame.\n",
      "Try using .loc[row_indexer,col_indexer] = value instead\n",
      "\n",
      "See the caveats in the documentation: https://pandas.pydata.org/pandas-docs/stable/user_guide/indexing.html#returning-a-view-versus-a-copy\n",
      "  dataset2[symptom_columns] = dataset2[symptom_columns].fillna(0).astype(float)\n",
      "C:\\Users\\EYAU\\AppData\\Local\\Temp\\ipykernel_10456\\1455117159.py:11: SettingWithCopyWarning: \n",
      "A value is trying to be set on a copy of a slice from a DataFrame.\n",
      "Try using .loc[row_indexer,col_indexer] = value instead\n",
      "\n",
      "See the caveats in the documentation: https://pandas.pydata.org/pandas-docs/stable/user_guide/indexing.html#returning-a-view-versus-a-copy\n",
      "  dataset2['symptom_sum'] = dataset2[symptom_columns].sum(axis=1)\n",
      "C:\\Users\\EYAU\\AppData\\Local\\Temp\\ipykernel_10456\\1455117159.py:13: SettingWithCopyWarning: \n",
      "A value is trying to be set on a copy of a slice from a DataFrame.\n",
      "Try using .loc[row_indexer,col_indexer] = value instead\n",
      "\n",
      "See the caveats in the documentation: https://pandas.pydata.org/pandas-docs/stable/user_guide/indexing.html#returning-a-view-versus-a-copy\n",
      "  dataset2['age_60_and_above'] = dataset2['age_60_and_above'].fillna('3')\n",
      "C:\\Users\\EYAU\\AppData\\Local\\Temp\\ipykernel_10456\\1455117159.py:14: SettingWithCopyWarning: \n",
      "A value is trying to be set on a copy of a slice from a DataFrame.\n",
      "Try using .loc[row_indexer,col_indexer] = value instead\n",
      "\n",
      "See the caveats in the documentation: https://pandas.pydata.org/pandas-docs/stable/user_guide/indexing.html#returning-a-view-versus-a-copy\n",
      "  dataset2['gender'] = dataset2['gender'].fillna('3')\n"
     ]
    }
   ],
   "source": [
    "symptom_columns = ['cough', 'fever', 'sore_throat', 'shortness_of_breath', 'head_ache']\n",
    "\n",
    "# Create missingness indicators for symptoms - we want to make a symptom score\n",
    "for col in symptom_columns:\n",
    "    dataset2[col + '_missing'] = dataset2[col].isnull().astype(int)\n",
    "\n",
    "# Fill missing values with 0 for the sum calculation\n",
    "dataset2[symptom_columns] = dataset2[symptom_columns].fillna(0).astype(float)\n",
    "\n",
    "# Create interaction feature: sum of symptoms\n",
    "dataset2['symptom_sum'] = dataset2[symptom_columns].sum(axis=1)\n",
    "\n",
    "dataset2['age_60_and_above'] = dataset2['age_60_and_above'].fillna('3')\n",
    "dataset2['gender'] = dataset2['gender'].fillna('3')"
   ]
  },
  {
   "cell_type": "code",
   "execution_count": 116,
   "metadata": {},
   "outputs": [
    {
     "name": "stdout",
     "output_type": "stream",
     "text": [
      "['cough', 'fever', 'sore_throat', 'shortness_of_breath', 'head_ache', 'age_60_and_above', 'gender', 'test_indication', 'test_month', 'test_day', 'test_dayofweek', 'cough_missing', 'fever_missing', 'sore_throat_missing', 'shortness_of_breath_missing', 'head_ache_missing', 'symptom_sum']\n"
     ]
    }
   ],
   "source": [
    "columns_encode = dataset2.drop(columns =['test_date','corona_result']).columns.tolist()\n",
    "print(columns_encode)\n",
    "dataset2 = dataset2.drop(columns = ['test_date'])\n",
    "one_hot_encoded_data = pd.get_dummies(dataset2, columns = columns_encode)"
   ]
  },
  {
   "cell_type": "code",
   "execution_count": 117,
   "metadata": {},
   "outputs": [
    {
     "data": {
      "text/html": [
       "<div>\n",
       "<style scoped>\n",
       "    .dataframe tbody tr th:only-of-type {\n",
       "        vertical-align: middle;\n",
       "    }\n",
       "\n",
       "    .dataframe tbody tr th {\n",
       "        vertical-align: top;\n",
       "    }\n",
       "\n",
       "    .dataframe thead th {\n",
       "        text-align: right;\n",
       "    }\n",
       "</style>\n",
       "<table border=\"1\" class=\"dataframe\">\n",
       "  <thead>\n",
       "    <tr style=\"text-align: right;\">\n",
       "      <th></th>\n",
       "      <th>corona_result</th>\n",
       "      <th>cough_0.0</th>\n",
       "      <th>cough_1.0</th>\n",
       "      <th>fever_0.0</th>\n",
       "      <th>fever_1.0</th>\n",
       "      <th>sore_throat_0.0</th>\n",
       "      <th>sore_throat_1.0</th>\n",
       "      <th>shortness_of_breath_0.0</th>\n",
       "      <th>shortness_of_breath_1.0</th>\n",
       "      <th>head_ache_0.0</th>\n",
       "      <th>...</th>\n",
       "      <th>fever_missing_1</th>\n",
       "      <th>sore_throat_missing_0</th>\n",
       "      <th>shortness_of_breath_missing_0</th>\n",
       "      <th>head_ache_missing_0</th>\n",
       "      <th>symptom_sum_0.0</th>\n",
       "      <th>symptom_sum_1.0</th>\n",
       "      <th>symptom_sum_2.0</th>\n",
       "      <th>symptom_sum_3.0</th>\n",
       "      <th>symptom_sum_4.0</th>\n",
       "      <th>symptom_sum_5.0</th>\n",
       "    </tr>\n",
       "  </thead>\n",
       "  <tbody>\n",
       "    <tr>\n",
       "      <th>0</th>\n",
       "      <td>negative</td>\n",
       "      <td>1</td>\n",
       "      <td>0</td>\n",
       "      <td>1</td>\n",
       "      <td>0</td>\n",
       "      <td>1</td>\n",
       "      <td>0</td>\n",
       "      <td>1</td>\n",
       "      <td>0</td>\n",
       "      <td>1</td>\n",
       "      <td>...</td>\n",
       "      <td>0</td>\n",
       "      <td>1</td>\n",
       "      <td>1</td>\n",
       "      <td>1</td>\n",
       "      <td>1</td>\n",
       "      <td>0</td>\n",
       "      <td>0</td>\n",
       "      <td>0</td>\n",
       "      <td>0</td>\n",
       "      <td>0</td>\n",
       "    </tr>\n",
       "    <tr>\n",
       "      <th>1</th>\n",
       "      <td>negative</td>\n",
       "      <td>0</td>\n",
       "      <td>1</td>\n",
       "      <td>1</td>\n",
       "      <td>0</td>\n",
       "      <td>1</td>\n",
       "      <td>0</td>\n",
       "      <td>1</td>\n",
       "      <td>0</td>\n",
       "      <td>1</td>\n",
       "      <td>...</td>\n",
       "      <td>0</td>\n",
       "      <td>1</td>\n",
       "      <td>1</td>\n",
       "      <td>1</td>\n",
       "      <td>0</td>\n",
       "      <td>1</td>\n",
       "      <td>0</td>\n",
       "      <td>0</td>\n",
       "      <td>0</td>\n",
       "      <td>0</td>\n",
       "    </tr>\n",
       "    <tr>\n",
       "      <th>2</th>\n",
       "      <td>negative</td>\n",
       "      <td>1</td>\n",
       "      <td>0</td>\n",
       "      <td>0</td>\n",
       "      <td>1</td>\n",
       "      <td>1</td>\n",
       "      <td>0</td>\n",
       "      <td>1</td>\n",
       "      <td>0</td>\n",
       "      <td>1</td>\n",
       "      <td>...</td>\n",
       "      <td>0</td>\n",
       "      <td>1</td>\n",
       "      <td>1</td>\n",
       "      <td>1</td>\n",
       "      <td>0</td>\n",
       "      <td>1</td>\n",
       "      <td>0</td>\n",
       "      <td>0</td>\n",
       "      <td>0</td>\n",
       "      <td>0</td>\n",
       "    </tr>\n",
       "    <tr>\n",
       "      <th>3</th>\n",
       "      <td>negative</td>\n",
       "      <td>0</td>\n",
       "      <td>1</td>\n",
       "      <td>1</td>\n",
       "      <td>0</td>\n",
       "      <td>1</td>\n",
       "      <td>0</td>\n",
       "      <td>1</td>\n",
       "      <td>0</td>\n",
       "      <td>1</td>\n",
       "      <td>...</td>\n",
       "      <td>0</td>\n",
       "      <td>1</td>\n",
       "      <td>1</td>\n",
       "      <td>1</td>\n",
       "      <td>0</td>\n",
       "      <td>1</td>\n",
       "      <td>0</td>\n",
       "      <td>0</td>\n",
       "      <td>0</td>\n",
       "      <td>0</td>\n",
       "    </tr>\n",
       "    <tr>\n",
       "      <th>4</th>\n",
       "      <td>negative</td>\n",
       "      <td>0</td>\n",
       "      <td>1</td>\n",
       "      <td>1</td>\n",
       "      <td>0</td>\n",
       "      <td>1</td>\n",
       "      <td>0</td>\n",
       "      <td>1</td>\n",
       "      <td>0</td>\n",
       "      <td>1</td>\n",
       "      <td>...</td>\n",
       "      <td>0</td>\n",
       "      <td>1</td>\n",
       "      <td>1</td>\n",
       "      <td>1</td>\n",
       "      <td>0</td>\n",
       "      <td>1</td>\n",
       "      <td>0</td>\n",
       "      <td>0</td>\n",
       "      <td>0</td>\n",
       "      <td>0</td>\n",
       "    </tr>\n",
       "    <tr>\n",
       "      <th>...</th>\n",
       "      <td>...</td>\n",
       "      <td>...</td>\n",
       "      <td>...</td>\n",
       "      <td>...</td>\n",
       "      <td>...</td>\n",
       "      <td>...</td>\n",
       "      <td>...</td>\n",
       "      <td>...</td>\n",
       "      <td>...</td>\n",
       "      <td>...</td>\n",
       "      <td>...</td>\n",
       "      <td>...</td>\n",
       "      <td>...</td>\n",
       "      <td>...</td>\n",
       "      <td>...</td>\n",
       "      <td>...</td>\n",
       "      <td>...</td>\n",
       "      <td>...</td>\n",
       "      <td>...</td>\n",
       "      <td>...</td>\n",
       "      <td>...</td>\n",
       "    </tr>\n",
       "    <tr>\n",
       "      <th>278843</th>\n",
       "      <td>negative</td>\n",
       "      <td>1</td>\n",
       "      <td>0</td>\n",
       "      <td>1</td>\n",
       "      <td>0</td>\n",
       "      <td>1</td>\n",
       "      <td>0</td>\n",
       "      <td>1</td>\n",
       "      <td>0</td>\n",
       "      <td>1</td>\n",
       "      <td>...</td>\n",
       "      <td>0</td>\n",
       "      <td>1</td>\n",
       "      <td>1</td>\n",
       "      <td>1</td>\n",
       "      <td>1</td>\n",
       "      <td>0</td>\n",
       "      <td>0</td>\n",
       "      <td>0</td>\n",
       "      <td>0</td>\n",
       "      <td>0</td>\n",
       "    </tr>\n",
       "    <tr>\n",
       "      <th>278844</th>\n",
       "      <td>negative</td>\n",
       "      <td>1</td>\n",
       "      <td>0</td>\n",
       "      <td>1</td>\n",
       "      <td>0</td>\n",
       "      <td>1</td>\n",
       "      <td>0</td>\n",
       "      <td>1</td>\n",
       "      <td>0</td>\n",
       "      <td>1</td>\n",
       "      <td>...</td>\n",
       "      <td>0</td>\n",
       "      <td>1</td>\n",
       "      <td>1</td>\n",
       "      <td>1</td>\n",
       "      <td>1</td>\n",
       "      <td>0</td>\n",
       "      <td>0</td>\n",
       "      <td>0</td>\n",
       "      <td>0</td>\n",
       "      <td>0</td>\n",
       "    </tr>\n",
       "    <tr>\n",
       "      <th>278845</th>\n",
       "      <td>positive</td>\n",
       "      <td>1</td>\n",
       "      <td>0</td>\n",
       "      <td>1</td>\n",
       "      <td>0</td>\n",
       "      <td>1</td>\n",
       "      <td>0</td>\n",
       "      <td>1</td>\n",
       "      <td>0</td>\n",
       "      <td>1</td>\n",
       "      <td>...</td>\n",
       "      <td>0</td>\n",
       "      <td>1</td>\n",
       "      <td>1</td>\n",
       "      <td>1</td>\n",
       "      <td>1</td>\n",
       "      <td>0</td>\n",
       "      <td>0</td>\n",
       "      <td>0</td>\n",
       "      <td>0</td>\n",
       "      <td>0</td>\n",
       "    </tr>\n",
       "    <tr>\n",
       "      <th>278846</th>\n",
       "      <td>other</td>\n",
       "      <td>1</td>\n",
       "      <td>0</td>\n",
       "      <td>1</td>\n",
       "      <td>0</td>\n",
       "      <td>1</td>\n",
       "      <td>0</td>\n",
       "      <td>1</td>\n",
       "      <td>0</td>\n",
       "      <td>1</td>\n",
       "      <td>...</td>\n",
       "      <td>0</td>\n",
       "      <td>1</td>\n",
       "      <td>1</td>\n",
       "      <td>1</td>\n",
       "      <td>1</td>\n",
       "      <td>0</td>\n",
       "      <td>0</td>\n",
       "      <td>0</td>\n",
       "      <td>0</td>\n",
       "      <td>0</td>\n",
       "    </tr>\n",
       "    <tr>\n",
       "      <th>278847</th>\n",
       "      <td>negative</td>\n",
       "      <td>1</td>\n",
       "      <td>0</td>\n",
       "      <td>1</td>\n",
       "      <td>0</td>\n",
       "      <td>1</td>\n",
       "      <td>0</td>\n",
       "      <td>1</td>\n",
       "      <td>0</td>\n",
       "      <td>1</td>\n",
       "      <td>...</td>\n",
       "      <td>0</td>\n",
       "      <td>1</td>\n",
       "      <td>1</td>\n",
       "      <td>1</td>\n",
       "      <td>1</td>\n",
       "      <td>0</td>\n",
       "      <td>0</td>\n",
       "      <td>0</td>\n",
       "      <td>0</td>\n",
       "      <td>0</td>\n",
       "    </tr>\n",
       "  </tbody>\n",
       "</table>\n",
       "<p>278847 rows × 73 columns</p>\n",
       "</div>"
      ],
      "text/plain": [
       "       corona_result  cough_0.0  cough_1.0  fever_0.0  fever_1.0  \\\n",
       "0           negative          1          0          1          0   \n",
       "1           negative          0          1          1          0   \n",
       "2           negative          1          0          0          1   \n",
       "3           negative          0          1          1          0   \n",
       "4           negative          0          1          1          0   \n",
       "...              ...        ...        ...        ...        ...   \n",
       "278843      negative          1          0          1          0   \n",
       "278844      negative          1          0          1          0   \n",
       "278845      positive          1          0          1          0   \n",
       "278846         other          1          0          1          0   \n",
       "278847      negative          1          0          1          0   \n",
       "\n",
       "        sore_throat_0.0  sore_throat_1.0  shortness_of_breath_0.0  \\\n",
       "0                     1                0                        1   \n",
       "1                     1                0                        1   \n",
       "2                     1                0                        1   \n",
       "3                     1                0                        1   \n",
       "4                     1                0                        1   \n",
       "...                 ...              ...                      ...   \n",
       "278843                1                0                        1   \n",
       "278844                1                0                        1   \n",
       "278845                1                0                        1   \n",
       "278846                1                0                        1   \n",
       "278847                1                0                        1   \n",
       "\n",
       "        shortness_of_breath_1.0  head_ache_0.0  ...  fever_missing_1  \\\n",
       "0                             0              1  ...                0   \n",
       "1                             0              1  ...                0   \n",
       "2                             0              1  ...                0   \n",
       "3                             0              1  ...                0   \n",
       "4                             0              1  ...                0   \n",
       "...                         ...            ...  ...              ...   \n",
       "278843                        0              1  ...                0   \n",
       "278844                        0              1  ...                0   \n",
       "278845                        0              1  ...                0   \n",
       "278846                        0              1  ...                0   \n",
       "278847                        0              1  ...                0   \n",
       "\n",
       "        sore_throat_missing_0  shortness_of_breath_missing_0  \\\n",
       "0                           1                              1   \n",
       "1                           1                              1   \n",
       "2                           1                              1   \n",
       "3                           1                              1   \n",
       "4                           1                              1   \n",
       "...                       ...                            ...   \n",
       "278843                      1                              1   \n",
       "278844                      1                              1   \n",
       "278845                      1                              1   \n",
       "278846                      1                              1   \n",
       "278847                      1                              1   \n",
       "\n",
       "        head_ache_missing_0  symptom_sum_0.0  symptom_sum_1.0  \\\n",
       "0                         1                1                0   \n",
       "1                         1                0                1   \n",
       "2                         1                0                1   \n",
       "3                         1                0                1   \n",
       "4                         1                0                1   \n",
       "...                     ...              ...              ...   \n",
       "278843                    1                1                0   \n",
       "278844                    1                1                0   \n",
       "278845                    1                1                0   \n",
       "278846                    1                1                0   \n",
       "278847                    1                1                0   \n",
       "\n",
       "        symptom_sum_2.0  symptom_sum_3.0  symptom_sum_4.0  symptom_sum_5.0  \n",
       "0                     0                0                0                0  \n",
       "1                     0                0                0                0  \n",
       "2                     0                0                0                0  \n",
       "3                     0                0                0                0  \n",
       "4                     0                0                0                0  \n",
       "...                 ...              ...              ...              ...  \n",
       "278843                0                0                0                0  \n",
       "278844                0                0                0                0  \n",
       "278845                0                0                0                0  \n",
       "278846                0                0                0                0  \n",
       "278847                0                0                0                0  \n",
       "\n",
       "[278847 rows x 73 columns]"
      ]
     },
     "execution_count": 117,
     "metadata": {},
     "output_type": "execute_result"
    }
   ],
   "source": [
    "one_hot_encoded_data"
   ]
  },
  {
   "cell_type": "code",
   "execution_count": 118,
   "metadata": {},
   "outputs": [],
   "source": [
    "encoded_data2 = one_hot_encoded_data[one_hot_encoded_data['corona_result'] != 'other']"
   ]
  },
  {
   "cell_type": "code",
   "execution_count": 119,
   "metadata": {},
   "outputs": [],
   "source": [
    "# split the data according to x and y\n",
    "# features and target\n",
    "x = encoded_data2.drop(columns = ['corona_result'])\n",
    "y = encoded_data2['corona_result']"
   ]
  },
  {
   "cell_type": "code",
   "execution_count": 120,
   "metadata": {},
   "outputs": [
    {
     "name": "stdout",
     "output_type": "stream",
     "text": [
      "<class 'pandas.core.frame.DataFrame'>\n",
      "Int64Index: 274955 entries, 0 to 278847\n",
      "Data columns (total 72 columns):\n",
      " #   Column                                  Non-Null Count   Dtype\n",
      "---  ------                                  --------------   -----\n",
      " 0   cough_0.0                               274955 non-null  uint8\n",
      " 1   cough_1.0                               274955 non-null  uint8\n",
      " 2   fever_0.0                               274955 non-null  uint8\n",
      " 3   fever_1.0                               274955 non-null  uint8\n",
      " 4   sore_throat_0.0                         274955 non-null  uint8\n",
      " 5   sore_throat_1.0                         274955 non-null  uint8\n",
      " 6   shortness_of_breath_0.0                 274955 non-null  uint8\n",
      " 7   shortness_of_breath_1.0                 274955 non-null  uint8\n",
      " 8   head_ache_0.0                           274955 non-null  uint8\n",
      " 9   head_ache_1.0                           274955 non-null  uint8\n",
      " 10  age_60_and_above_3                      274955 non-null  uint8\n",
      " 11  age_60_and_above_No                     274955 non-null  uint8\n",
      " 12  age_60_and_above_Yes                    274955 non-null  uint8\n",
      " 13  gender_3                                274955 non-null  uint8\n",
      " 14  gender_female                           274955 non-null  uint8\n",
      " 15  gender_male                             274955 non-null  uint8\n",
      " 16  test_indication_Abroad                  274955 non-null  uint8\n",
      " 17  test_indication_Contact with confirmed  274955 non-null  uint8\n",
      " 18  test_indication_Other                   274955 non-null  uint8\n",
      " 19  test_month_3                            274955 non-null  uint8\n",
      " 20  test_month_4                            274955 non-null  uint8\n",
      " 21  test_day_1                              274955 non-null  uint8\n",
      " 22  test_day_2                              274955 non-null  uint8\n",
      " 23  test_day_3                              274955 non-null  uint8\n",
      " 24  test_day_4                              274955 non-null  uint8\n",
      " 25  test_day_5                              274955 non-null  uint8\n",
      " 26  test_day_6                              274955 non-null  uint8\n",
      " 27  test_day_7                              274955 non-null  uint8\n",
      " 28  test_day_8                              274955 non-null  uint8\n",
      " 29  test_day_9                              274955 non-null  uint8\n",
      " 30  test_day_10                             274955 non-null  uint8\n",
      " 31  test_day_11                             274955 non-null  uint8\n",
      " 32  test_day_12                             274955 non-null  uint8\n",
      " 33  test_day_13                             274955 non-null  uint8\n",
      " 34  test_day_14                             274955 non-null  uint8\n",
      " 35  test_day_15                             274955 non-null  uint8\n",
      " 36  test_day_16                             274955 non-null  uint8\n",
      " 37  test_day_17                             274955 non-null  uint8\n",
      " 38  test_day_18                             274955 non-null  uint8\n",
      " 39  test_day_19                             274955 non-null  uint8\n",
      " 40  test_day_20                             274955 non-null  uint8\n",
      " 41  test_day_21                             274955 non-null  uint8\n",
      " 42  test_day_22                             274955 non-null  uint8\n",
      " 43  test_day_23                             274955 non-null  uint8\n",
      " 44  test_day_24                             274955 non-null  uint8\n",
      " 45  test_day_25                             274955 non-null  uint8\n",
      " 46  test_day_26                             274955 non-null  uint8\n",
      " 47  test_day_27                             274955 non-null  uint8\n",
      " 48  test_day_28                             274955 non-null  uint8\n",
      " 49  test_day_29                             274955 non-null  uint8\n",
      " 50  test_day_30                             274955 non-null  uint8\n",
      " 51  test_day_31                             274955 non-null  uint8\n",
      " 52  test_dayofweek_0                        274955 non-null  uint8\n",
      " 53  test_dayofweek_1                        274955 non-null  uint8\n",
      " 54  test_dayofweek_2                        274955 non-null  uint8\n",
      " 55  test_dayofweek_3                        274955 non-null  uint8\n",
      " 56  test_dayofweek_4                        274955 non-null  uint8\n",
      " 57  test_dayofweek_5                        274955 non-null  uint8\n",
      " 58  test_dayofweek_6                        274955 non-null  uint8\n",
      " 59  cough_missing_0                         274955 non-null  uint8\n",
      " 60  cough_missing_1                         274955 non-null  uint8\n",
      " 61  fever_missing_0                         274955 non-null  uint8\n",
      " 62  fever_missing_1                         274955 non-null  uint8\n",
      " 63  sore_throat_missing_0                   274955 non-null  uint8\n",
      " 64  shortness_of_breath_missing_0           274955 non-null  uint8\n",
      " 65  head_ache_missing_0                     274955 non-null  uint8\n",
      " 66  symptom_sum_0.0                         274955 non-null  uint8\n",
      " 67  symptom_sum_1.0                         274955 non-null  uint8\n",
      " 68  symptom_sum_2.0                         274955 non-null  uint8\n",
      " 69  symptom_sum_3.0                         274955 non-null  uint8\n",
      " 70  symptom_sum_4.0                         274955 non-null  uint8\n",
      " 71  symptom_sum_5.0                         274955 non-null  uint8\n",
      "dtypes: uint8(72)\n",
      "memory usage: 21.0 MB\n"
     ]
    }
   ],
   "source": [
    "x.info()"
   ]
  },
  {
   "cell_type": "code",
   "execution_count": 121,
   "metadata": {},
   "outputs": [],
   "source": [
    "ros = RandomOverSampler(sampling_strategy = 1)\n",
    "rus = RandomUnderSampler(sampling_strategy = 'minority', random_state=42)"
   ]
  },
  {
   "cell_type": "code",
   "execution_count": 122,
   "metadata": {},
   "outputs": [],
   "source": [
    "# Split the data into training and testing sets\n",
    "x_train, x_test, y_train, y_test = train_test_split(x, y, test_size=0.2, random_state=42)"
   ]
  },
  {
   "cell_type": "code",
   "execution_count": 123,
   "metadata": {},
   "outputs": [],
   "source": [
    "X_train_Osample, y_train_Osample = ros.fit_resample(x_train, y_train)"
   ]
  },
  {
   "cell_type": "code",
   "execution_count": 124,
   "metadata": {},
   "outputs": [
    {
     "name": "stderr",
     "output_type": "stream",
     "text": [
      "C:\\Users\\EYAU\\Anaconda3\\lib\\site-packages\\sklearn\\linear_model\\_logistic.py:444: ConvergenceWarning: lbfgs failed to converge (status=1):\n",
      "STOP: TOTAL NO. of ITERATIONS REACHED LIMIT.\n",
      "\n",
      "Increase the number of iterations (max_iter) or scale the data as shown in:\n",
      "    https://scikit-learn.org/stable/modules/preprocessing.html\n",
      "Please also refer to the documentation for alternative solver options:\n",
      "    https://scikit-learn.org/stable/modules/linear_model.html#logistic-regression\n",
      "  n_iter_i = _check_optimize_result(\n"
     ]
    },
    {
     "name": "stdout",
     "output_type": "stream",
     "text": [
      "Accuracy: 0.9168591224018475\n",
      "Confusion Matrix:\n",
      "[[48129  3896]\n",
      " [  676  2290]]\n",
      "Classification Report:\n",
      "              precision    recall  f1-score   support\n",
      "\n",
      "    negative       0.99      0.93      0.95     52025\n",
      "    positive       0.37      0.77      0.50      2966\n",
      "\n",
      "    accuracy                           0.92     54991\n",
      "   macro avg       0.68      0.85      0.73     54991\n",
      "weighted avg       0.95      0.92      0.93     54991\n",
      "\n"
     ]
    }
   ],
   "source": [
    "model = LogisticRegression()\n",
    "model.fit(X_train_Osample, y_train_Osample)\n",
    "\n",
    "# Make predictions\n",
    "y_pred = model.predict(x_test)\n",
    "\n",
    "# Evaluate the model\n",
    "accuracy = accuracy_score(y_test, y_pred)\n",
    "conf_matrix = confusion_matrix(y_test, y_pred)\n",
    "class_report = classification_report(y_test, y_pred)\n",
    "\n",
    "print(f'Accuracy: {accuracy}')\n",
    "print('Confusion Matrix:')\n",
    "print(conf_matrix)\n",
    "print('Classification Report:')\n",
    "print(class_report)"
   ]
  },
  {
   "cell_type": "code",
   "execution_count": 125,
   "metadata": {},
   "outputs": [
    {
     "name": "stdout",
     "output_type": "stream",
     "text": [
      "AUC Score: 0.8977827228532368\n"
     ]
    }
   ],
   "source": [
    "from sklearn.metrics import roc_auc_score, roc_curve\n",
    "y_prob = model.predict_proba(x_test)[:, 1]\n",
    "\n",
    "auc_score = roc_auc_score(y_test, y_prob)\n",
    "print(f'AUC Score: {auc_score}')"
   ]
  },
  {
   "cell_type": "code",
   "execution_count": 126,
   "metadata": {},
   "outputs": [
    {
     "name": "stdout",
     "output_type": "stream",
     "text": [
      "                                   Feature  Importance\n",
      "17  test_indication_Contact with confirmed    3.114547\n",
      "9                            head_ache_1.0    2.072651\n",
      "69                         symptom_sum_3.0    1.669425\n",
      "5                          sore_throat_1.0    1.363348\n",
      "7                  shortness_of_breath_1.0    1.220070\n",
      "..                                     ...         ...\n",
      "4                          sore_throat_0.0   -0.712695\n",
      "16                  test_indication_Abroad   -1.085332\n",
      "18                   test_indication_Other   -1.378562\n",
      "8                            head_ache_0.0   -1.421998\n",
      "66                         symptom_sum_0.0   -1.701616\n",
      "\n",
      "[72 rows x 2 columns]\n"
     ]
    }
   ],
   "source": [
    "feature_importance = pd.DataFrame({\n",
    "    'Feature': x.columns,\n",
    "    'Importance': model.coef_[0]\n",
    "}).sort_values(by='Importance', ascending=False)\n",
    "\n",
    "print(feature_importance)"
   ]
  },
  {
   "cell_type": "markdown",
   "metadata": {
    "slideshow": {
     "slide_type": "slide"
    }
   },
   "source": [
    "**Question / Task 1**\n",
    "\n",
    "Insert context about question / task 1 here."
   ]
  },
  {
   "cell_type": "code",
   "execution_count": null,
   "metadata": {
    "slideshow": {
     "slide_type": "slide"
    }
   },
   "outputs": [],
   "source": [
    "# Add your code here\n"
   ]
  }
 ],
 "metadata": {
  "kernelspec": {
   "display_name": "Python 3 (ipykernel)",
   "language": "python",
   "name": "python3"
  },
  "language_info": {
   "codemirror_mode": {
    "name": "ipython",
    "version": 3
   },
   "file_extension": ".py",
   "mimetype": "text/x-python",
   "name": "python",
   "nbconvert_exporter": "python",
   "pygments_lexer": "ipython3",
   "version": "3.9.12"
  }
 },
 "nbformat": 4,
 "nbformat_minor": 1
}
